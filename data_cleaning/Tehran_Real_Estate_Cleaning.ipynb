{
 "cells": [
  {
   "cell_type": "code",
   "execution_count": 1,
   "id": "871417b2-5f4e-4d69-b697-6906c96ba2c3",
   "metadata": {},
   "outputs": [],
   "source": [
    "import pandas as pd\n",
    "import numpy as np"
   ]
  },
  {
   "cell_type": "code",
   "execution_count": 2,
   "id": "a88bc866-3585-410c-a046-8ccc4dd6dff3",
   "metadata": {
    "scrolled": true
   },
   "outputs": [
    {
     "data": {
      "text/html": [
       "<div>\n",
       "<style scoped>\n",
       "    .dataframe tbody tr th:only-of-type {\n",
       "        vertical-align: middle;\n",
       "    }\n",
       "\n",
       "    .dataframe tbody tr th {\n",
       "        vertical-align: top;\n",
       "    }\n",
       "\n",
       "    .dataframe thead th {\n",
       "        text-align: right;\n",
       "    }\n",
       "</style>\n",
       "<table border=\"1\" class=\"dataframe\">\n",
       "  <thead>\n",
       "    <tr style=\"text-align: right;\">\n",
       "      <th></th>\n",
       "      <th>Link</th>\n",
       "      <th>Area</th>\n",
       "      <th>Year of Building</th>\n",
       "      <th>Number of Rooms</th>\n",
       "      <th>Elevator</th>\n",
       "      <th>Parking</th>\n",
       "      <th>Storage</th>\n",
       "      <th>Bale</th>\n",
       "      <th>Price</th>\n",
       "      <th>Tabaghe</th>\n",
       "      <th>Subtitle</th>\n",
       "    </tr>\n",
       "  </thead>\n",
       "  <tbody>\n",
       "    <tr>\n",
       "      <th>0</th>\n",
       "      <td>https://divar.ir/v/%DB%B9%DB%B2%D9%85%D8%AA%D8...</td>\n",
       "      <td>۹۲</td>\n",
       "      <td>قبل از ۱۳۷۰</td>\n",
       "      <td>۲</td>\n",
       "      <td>آسانسور ندارد</td>\n",
       "      <td>پارکینگ</td>\n",
       "      <td>انباری ندارد</td>\n",
       "      <td>بله</td>\n",
       "      <td>۱۰٬۵۰۰٬۰۰۰٬۰۰۰ تومان</td>\n",
       "      <td>۲ از ۳</td>\n",
       "      <td>۴ روز پیش در تهران، گیشا (کوی نصر)</td>\n",
       "    </tr>\n",
       "    <tr>\n",
       "      <th>1</th>\n",
       "      <td>https://divar.ir/v/%D8%A7%D8%B3%D8%AA%D8%AB%D9...</td>\n",
       "      <td>۲۵۰</td>\n",
       "      <td>۱۳۹۷</td>\n",
       "      <td>۴</td>\n",
       "      <td>آسانسور</td>\n",
       "      <td>پارکینگ</td>\n",
       "      <td>انباری</td>\n",
       "      <td>بله</td>\n",
       "      <td>۵۰٬۰۰۰٬۰۰۰٬۰۰۰ تومان</td>\n",
       "      <td>۴</td>\n",
       "      <td>۲۲ ساعت پیش در تهران، سعادت‌آباد</td>\n",
       "    </tr>\n",
       "    <tr>\n",
       "      <th>2</th>\n",
       "      <td>https://divar.ir/v/%D8%B4%D9%87%D8%B1%DA%A9-%D...</td>\n",
       "      <td>۱۳۱</td>\n",
       "      <td>۱۳۹۶</td>\n",
       "      <td>۳</td>\n",
       "      <td>آسانسور</td>\n",
       "      <td>پارکینگ</td>\n",
       "      <td>انباری</td>\n",
       "      <td>بله</td>\n",
       "      <td>۲۸٬۰۰۰٬۰۰۰٬۰۰۰ تومان</td>\n",
       "      <td>۱</td>\n",
       "      <td>لحظاتی پیش در تهران، شهرک غرب</td>\n",
       "    </tr>\n",
       "    <tr>\n",
       "      <th>3</th>\n",
       "      <td>https://divar.ir/v/%D9%81%D8%B1%D9%88%D8%B4-%D...</td>\n",
       "      <td>۱۰۰</td>\n",
       "      <td>۱۳۹۹</td>\n",
       "      <td>۲</td>\n",
       "      <td>آسانسور</td>\n",
       "      <td>پارکینگ</td>\n",
       "      <td>انباری</td>\n",
       "      <td>بله</td>\n",
       "      <td>۱۲٬۰۰۰٬۰۰۰٬۰۰۰ تومان</td>\n",
       "      <td>۵</td>\n",
       "      <td>لحظاتی پیش در تهران، باغ فیض</td>\n",
       "    </tr>\n",
       "  </tbody>\n",
       "</table>\n",
       "</div>"
      ],
      "text/plain": [
       "                                                Link Area Year of Building  \\\n",
       "0  https://divar.ir/v/%DB%B9%DB%B2%D9%85%D8%AA%D8...   ۹۲      قبل از ۱۳۷۰   \n",
       "1  https://divar.ir/v/%D8%A7%D8%B3%D8%AA%D8%AB%D9...  ۲۵۰             ۱۳۹۷   \n",
       "2  https://divar.ir/v/%D8%B4%D9%87%D8%B1%DA%A9-%D...  ۱۳۱             ۱۳۹۶   \n",
       "3  https://divar.ir/v/%D9%81%D8%B1%D9%88%D8%B4-%D...  ۱۰۰             ۱۳۹۹   \n",
       "\n",
       "  Number of Rooms       Elevator  Parking       Storage Bale  \\\n",
       "0               ۲  آسانسور ندارد  پارکینگ  انباری ندارد  بله   \n",
       "1               ۴        آسانسور  پارکینگ        انباری  بله   \n",
       "2               ۳        آسانسور  پارکینگ        انباری  بله   \n",
       "3               ۲        آسانسور  پارکینگ        انباری  بله   \n",
       "\n",
       "                  Price Tabaghe                            Subtitle  \n",
       "0  ۱۰٬۵۰۰٬۰۰۰٬۰۰۰ تومان  ۲ از ۳  ۴ روز پیش در تهران، گیشا (کوی نصر)  \n",
       "1  ۵۰٬۰۰۰٬۰۰۰٬۰۰۰ تومان       ۴    ۲۲ ساعت پیش در تهران، سعادت‌آباد  \n",
       "2  ۲۸٬۰۰۰٬۰۰۰٬۰۰۰ تومان       ۱       لحظاتی پیش در تهران، شهرک غرب  \n",
       "3  ۱۲٬۰۰۰٬۰۰۰٬۰۰۰ تومان       ۵        لحظاتی پیش در تهران، باغ فیض  "
      ]
     },
     "execution_count": 2,
     "metadata": {},
     "output_type": "execute_result"
    }
   ],
   "source": [
    "file_path = r\"--------\"\n",
    "\n",
    "# Read the file\n",
    "df = pd.read_csv(file_path)\n",
    "\n",
    "df.head(4)"
   ]
  },
  {
   "cell_type": "markdown",
   "id": "92758e04-5dbb-403b-8260-1e8ec46f4fde",
   "metadata": {},
   "source": [
    "# Real Estate Data Cleaning and Preprocessing"
   ]
  },
  {
   "cell_type": "markdown",
   "id": "866df914-1fab-4542-8da3-9d8a147032e9",
   "metadata": {},
   "source": [
    "## Preparing the Dataset for Analysis and Modeling\n",
    "\n",
    "This notebook documents the steps taken to clean and preprocess a real estate dataset. The dataset contains information about properties in Tehran, including area, price, number of rooms, and various amenities. The goal is to standardize the data, handle missing values, and prepare it for further analysis or machine learning modeling."
   ]
  },
  {
   "cell_type": "markdown",
   "id": "d0b3f113-eaee-4944-88ca-957b1917e74d",
   "metadata": {},
   "source": [
    "### Rename Columns, We also drop unnecessary columns like `Link` and `Bale`"
   ]
  },
  {
   "cell_type": "code",
   "execution_count": 3,
   "id": "1da671b1-fc25-4729-99af-213c777f1ed3",
   "metadata": {},
   "outputs": [],
   "source": [
    "# Drop unnecessary columns\n",
    "df = df.drop(columns=['Link', 'Bale'])\n"
   ]
  },
  {
   "cell_type": "code",
   "execution_count": 4,
   "id": "b4c2368c-4533-4bc5-899b-6678393651e6",
   "metadata": {},
   "outputs": [],
   "source": [
    "# Rename columns\n",
    "df.rename(columns={\n",
    "    'Area': 'area_sqm',\n",
    "    'Year of Building': 'building_year',\n",
    "    'Number of Rooms': 'num_rooms',\n",
    "    'Elevator': 'has_elevator',\n",
    "    'Parking': 'has_parking',\n",
    "    'Storage': 'has_storage',\n",
    "    'Price': 'price(in_toman)',\n",
    "    'Subtitle': 'district',\n",
    "    'Tabaghe': 'floor_number'\n",
    "}, inplace=True)"
   ]
  },
  {
   "cell_type": "markdown",
   "id": "8ed7aeca-740b-46a3-8d54-da093dd8fbe3",
   "metadata": {},
   "source": [
    "### Extract District Name"
   ]
  },
  {
   "cell_type": "code",
   "execution_count": 5,
   "id": "5cb3ad05-1446-404b-8625-6edbe64a4ad0",
   "metadata": {},
   "outputs": [],
   "source": [
    "# Extract district name\n",
    "df['district'] = df['district'].str.extract(r'در تهران، (.*)')\n"
   ]
  },
  {
   "cell_type": "markdown",
   "id": "045e1733-201f-40a7-b9f0-e23870d6b05a",
   "metadata": {},
   "source": [
    "### Clean price column"
   ]
  },
  {
   "cell_type": "code",
   "execution_count": 6,
   "id": "0f537042-c060-444f-9394-ef19f5239770",
   "metadata": {},
   "outputs": [],
   "source": [
    "# Clean price column\n",
    "df['price(in_toman)'] = df['price(in_toman)'].str.replace(' تومان', '')"
   ]
  },
  {
   "cell_type": "markdown",
   "id": "3bfdfb66-8d81-4343-be91-3f7ca022c680",
   "metadata": {},
   "source": [
    "### Convert Persian/Arabic Numerals"
   ]
  },
  {
   "cell_type": "code",
   "execution_count": 7,
   "id": "35631ae9-ead1-4fa8-b073-d9b455c29804",
   "metadata": {},
   "outputs": [],
   "source": [
    "# Mapping Persian/Arabic numerals to Western numerals\n",
    "persian_to_western = {\n",
    "    '۰': '0', '۱': '1', '۲': '2', '۳': '3', '۴': '4',\n",
    "    '۵': '5', '۶': '6', '۷': '7', '۸': '8', '۹': '9',\n",
    "    '٬': '',  # Remove thousands separators\n",
    "    ' ': ''   # Remove spaces\n",
    "}\n",
    "\n",
    "# Function to convert Persian/Arabic numerals to Western numerals\n",
    "def convert_to_western(text):\n",
    "    if pd.isna(text):\n",
    "        return np.nan\n",
    "    return ''.join([persian_to_western[char] for char in text if char in persian_to_western])\n",
    "\n",
    "# Apply conversion to relevant columns\n",
    "df['price(in_toman)'] = df['price(in_toman)'].apply(convert_to_western)\n",
    "df['area_sqm'] = df['area_sqm'].apply(convert_to_western)\n",
    "df['num_rooms'] = df['num_rooms'].apply(convert_to_western)\n",
    "df['building_year'] = df['building_year'].apply(convert_to_western)\n",
    "df['floor_number'] = df['floor_number'].apply(convert_to_western)\n"
   ]
  },
  {
   "cell_type": "markdown",
   "id": "c2ab8020-3b8c-4a19-a13c-15970a8de080",
   "metadata": {},
   "source": [
    "### Convert Columns to Numeric"
   ]
  },
  {
   "cell_type": "code",
   "execution_count": 8,
   "id": "7f3e9b89-304d-4e43-bb99-4a98b6183c66",
   "metadata": {},
   "outputs": [],
   "source": [
    "# Convert columns to numeric\n",
    "df['price(in_toman)'] = pd.to_numeric(df['price(in_toman)'])\n",
    "df['area_sqm'] = pd.to_numeric(df['area_sqm'])\n",
    "df['num_rooms'] = pd.to_numeric(df['num_rooms'])\n",
    "df['building_year'] = pd.to_numeric(df['building_year'])\n",
    "df['floor_number'] = pd.to_numeric(df['floor_number'], errors='coerce')"
   ]
  },
  {
   "cell_type": "markdown",
   "id": "865f8247-814c-47bd-a5da-ff7902a39331",
   "metadata": {},
   "source": [
    "### Handle Missing Values"
   ]
  },
  {
   "cell_type": "code",
   "execution_count": 9,
   "id": "bf1a4481-4ad2-4e62-ba76-d3c6e7f94f23",
   "metadata": {},
   "outputs": [],
   "source": [
    "# Fill missing values in num_rooms with the mean\n",
    "mean_num_rooms = df['num_rooms'].mean()\n",
    "df['num_rooms'] = df['num_rooms'].fillna(mean_num_rooms).astype(int)"
   ]
  },
  {
   "cell_type": "markdown",
   "id": "3fb210c3-8650-4da3-aef8-a18a7b25c43c",
   "metadata": {},
   "source": [
    "### Standardize Categorical Columns"
   ]
  },
  {
   "cell_type": "code",
   "execution_count": 10,
   "id": "7b7e3d5b-7438-4f55-a47e-705395b4c4bf",
   "metadata": {},
   "outputs": [],
   "source": [
    "# Map categorical columns to standardized values\n",
    "storage_mapping = {'انباری': 'Yes', 'انباری ندارد': 'No'}\n",
    "elevator_mapping = {'آسانسور': 'Yes', 'آسانسور ندارد': 'No'}\n",
    "parking_mapping = {'پارکینگ': 'Yes', 'پارکینگ ندارد': 'No'}\n",
    "\n",
    "df['has_storage'] = df['has_storage'].map(storage_mapping)\n",
    "df['has_elevator'] = df['has_elevator'].map(elevator_mapping)\n",
    "df['has_parking'] = df['has_parking'].map(parking_mapping)"
   ]
  },
  {
   "cell_type": "markdown",
   "id": "2afab0a2-48e4-44f3-8cbe-38e56b12037b",
   "metadata": {},
   "source": [
    "### Clean Floor Number Column"
   ]
  },
  {
   "cell_type": "code",
   "execution_count": 11,
   "id": "78aa943b-4517-471a-955f-106f821b7866",
   "metadata": {},
   "outputs": [],
   "source": [
    "# Function to clean and extract floor number\n",
    "def extract_floor_number(floor_str):\n",
    "    # Check if the input is NaN or None\n",
    "    if pd.isna(floor_str):\n",
    "        return np.nan\n",
    "    \n",
    "    # Convert to string in case it's a float or other type\n",
    "    floor_str = str(floor_str)\n",
    "    \n",
    "    # Handle specific cases\n",
    "    if floor_str == 'همکف':\n",
    "        return 0  # Ground floor\n",
    "    if floor_str == 'زیرهمکف':\n",
    "        return -1  # Basement\n",
    "    \n",
    "    # Clean the string and extract the floor number\n",
    "    floor_str = floor_str.replace('+', '').replace('از بیشتر از', '')\n",
    "    parts = floor_str.split('از')\n",
    "    return parts[0].strip() if len(parts) > 1 else floor_str.strip()\n",
    "\n",
    "# Apply floor number cleaning\n",
    "df['floor_number'] = df['floor_number'].apply(extract_floor_number)\n",
    "df['floor_number'] = pd.to_numeric(df['floor_number'], errors='coerce')"
   ]
  },
  {
   "cell_type": "markdown",
   "id": "da486007-1920-42cc-bd72-f3fbb06558a6",
   "metadata": {},
   "source": [
    "### Final DataFrame\n"
   ]
  },
  {
   "cell_type": "code",
   "execution_count": 12,
   "id": "e1385fe7-a9e9-4517-bc28-0c150c2ecb93",
   "metadata": {},
   "outputs": [
    {
     "name": "stdout",
     "output_type": "stream",
     "text": [
      "<class 'pandas.core.frame.DataFrame'>\n",
      "RangeIndex: 3233 entries, 0 to 3232\n",
      "Data columns (total 9 columns):\n",
      " #   Column           Non-Null Count  Dtype  \n",
      "---  ------           --------------  -----  \n",
      " 0   area_sqm         3233 non-null   int64  \n",
      " 1   building_year    3233 non-null   int64  \n",
      " 2   num_rooms        3233 non-null   int64  \n",
      " 3   has_elevator     3233 non-null   object \n",
      " 4   has_parking      3233 non-null   object \n",
      " 5   has_storage      3233 non-null   object \n",
      " 6   price(in_toman)  3233 non-null   int64  \n",
      " 7   floor_number     2513 non-null   float64\n",
      " 8   district         3233 non-null   object \n",
      "dtypes: float64(1), int64(4), object(4)\n",
      "memory usage: 227.4+ KB\n"
     ]
    }
   ],
   "source": [
    "df.info()"
   ]
  },
  {
   "cell_type": "code",
   "execution_count": 13,
   "id": "9ee9c391-2c42-43dc-9cf5-bde33aa8a40c",
   "metadata": {},
   "outputs": [
    {
     "data": {
      "text/html": [
       "<div>\n",
       "<style scoped>\n",
       "    .dataframe tbody tr th:only-of-type {\n",
       "        vertical-align: middle;\n",
       "    }\n",
       "\n",
       "    .dataframe tbody tr th {\n",
       "        vertical-align: top;\n",
       "    }\n",
       "\n",
       "    .dataframe thead th {\n",
       "        text-align: right;\n",
       "    }\n",
       "</style>\n",
       "<table border=\"1\" class=\"dataframe\">\n",
       "  <thead>\n",
       "    <tr style=\"text-align: right;\">\n",
       "      <th></th>\n",
       "      <th>area_sqm</th>\n",
       "      <th>building_year</th>\n",
       "      <th>num_rooms</th>\n",
       "      <th>has_elevator</th>\n",
       "      <th>has_parking</th>\n",
       "      <th>has_storage</th>\n",
       "      <th>price(in_toman)</th>\n",
       "      <th>floor_number</th>\n",
       "      <th>district</th>\n",
       "    </tr>\n",
       "  </thead>\n",
       "  <tbody>\n",
       "    <tr>\n",
       "      <th>0</th>\n",
       "      <td>92</td>\n",
       "      <td>1370</td>\n",
       "      <td>2</td>\n",
       "      <td>No</td>\n",
       "      <td>Yes</td>\n",
       "      <td>No</td>\n",
       "      <td>10500000000</td>\n",
       "      <td>23.0</td>\n",
       "      <td>گیشا (کوی نصر)</td>\n",
       "    </tr>\n",
       "    <tr>\n",
       "      <th>1</th>\n",
       "      <td>250</td>\n",
       "      <td>1397</td>\n",
       "      <td>4</td>\n",
       "      <td>Yes</td>\n",
       "      <td>Yes</td>\n",
       "      <td>Yes</td>\n",
       "      <td>50000000000</td>\n",
       "      <td>4.0</td>\n",
       "      <td>سعادت‌آباد</td>\n",
       "    </tr>\n",
       "    <tr>\n",
       "      <th>2</th>\n",
       "      <td>131</td>\n",
       "      <td>1396</td>\n",
       "      <td>3</td>\n",
       "      <td>Yes</td>\n",
       "      <td>Yes</td>\n",
       "      <td>Yes</td>\n",
       "      <td>28000000000</td>\n",
       "      <td>1.0</td>\n",
       "      <td>شهرک غرب</td>\n",
       "    </tr>\n",
       "    <tr>\n",
       "      <th>3</th>\n",
       "      <td>100</td>\n",
       "      <td>1399</td>\n",
       "      <td>2</td>\n",
       "      <td>Yes</td>\n",
       "      <td>Yes</td>\n",
       "      <td>Yes</td>\n",
       "      <td>12000000000</td>\n",
       "      <td>5.0</td>\n",
       "      <td>باغ فیض</td>\n",
       "    </tr>\n",
       "    <tr>\n",
       "      <th>4</th>\n",
       "      <td>90</td>\n",
       "      <td>1402</td>\n",
       "      <td>2</td>\n",
       "      <td>Yes</td>\n",
       "      <td>Yes</td>\n",
       "      <td>Yes</td>\n",
       "      <td>5500000000</td>\n",
       "      <td>4.0</td>\n",
       "      <td>جی</td>\n",
       "    </tr>\n",
       "  </tbody>\n",
       "</table>\n",
       "</div>"
      ],
      "text/plain": [
       "   area_sqm  building_year  num_rooms has_elevator has_parking has_storage  \\\n",
       "0        92           1370          2           No         Yes          No   \n",
       "1       250           1397          4          Yes         Yes         Yes   \n",
       "2       131           1396          3          Yes         Yes         Yes   \n",
       "3       100           1399          2          Yes         Yes         Yes   \n",
       "4        90           1402          2          Yes         Yes         Yes   \n",
       "\n",
       "   price(in_toman)  floor_number        district  \n",
       "0      10500000000          23.0  گیشا (کوی نصر)  \n",
       "1      50000000000           4.0      سعادت‌آباد  \n",
       "2      28000000000           1.0        شهرک غرب  \n",
       "3      12000000000           5.0         باغ فیض  \n",
       "4       5500000000           4.0              جی  "
      ]
     },
     "execution_count": 13,
     "metadata": {},
     "output_type": "execute_result"
    }
   ],
   "source": [
    "df.head()"
   ]
  }
 ],
 "metadata": {
  "kernelspec": {
   "display_name": "Python 3 (ipykernel)",
   "language": "python",
   "name": "python3"
  },
  "language_info": {
   "codemirror_mode": {
    "name": "ipython",
    "version": 3
   },
   "file_extension": ".py",
   "mimetype": "text/x-python",
   "name": "python",
   "nbconvert_exporter": "python",
   "pygments_lexer": "ipython3",
   "version": "3.13.1"
  }
 },
 "nbformat": 4,
 "nbformat_minor": 5
}
